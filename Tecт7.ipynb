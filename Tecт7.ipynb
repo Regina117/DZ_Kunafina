{
 "cells": [
  {
   "cell_type": "markdown",
   "metadata": {},
   "source": [
    "Задание 3 Напишите функцию date_range, которая возвращает список дат за период от start_date до end_date. Даты должны вводиться в формате YYYY-MM-DD. В случае неверного формата или при start_date > end_date должен возвращаться пустой список."
   ]
  },
  {
   "cell_type": "code",
   "execution_count": 10,
   "metadata": {},
   "outputs": [
    {
     "data": {
      "text/plain": [
       "'153 дней между \"2020-05-01\" и \"2020-10-01\": [1, 2, 3, 4, 5, 6, 7, 8, 9, 10, 11, 12, 13, 14, 15, 16, 17, 18, 19, 20, 21, 22, 23, 24, 25, 26, 27, 28, 29, 30, 31, 32, 33, 34, 35, 36, 37, 38, 39, 40, 41, 42, 43, 44, 45, 46, 47, 48, 49, 50, 51, 52, 53, 54, 55, 56, 57, 58, 59, 60, 61, 62, 63, 64, 65, 66, 67, 68, 69, 70, 71, 72, 73, 74, 75, 76, 77, 78, 79, 80, 81, 82, 83, 84, 85, 86, 87, 88, 89, 90, 91, 92, 93, 94, 95, 96, 97, 98, 99, 100, 101, 102, 103, 104, 105, 106, 107, 108, 109, 110, 111, 112, 113, 114, 115, 116, 117, 118, 119, 120, 121, 122, 123, 124, 125, 126, 127, 128, 129, 130, 131, 132, 133, 134, 135, 136, 137, 138, 139, 140, 141, 142, 143, 144, 145, 146, 147, 148, 149, 150, 151, 152, 153]'"
      ]
     },
     "execution_count": 10,
     "metadata": {},
     "output_type": "execute_result"
    }
   ],
   "source": [
    "def date_range(start_date, end_date):\n",
    "    from datetime import datetime\n",
    "    difference=datetime.strptime(end_date,'%Y-%m-%d')-datetime.strptime(start_date,'%Y-%m-%d')\n",
    "    return f'{difference.days} дней между \"{start_date}\" и \"{end_date}\": {list(range(1,difference.days+1))}'\n",
    "date_range(start_date='2020-05-01', end_date='2020-10-01')"
   ]
  },
  {
   "cell_type": "code",
   "execution_count": 9,
   "metadata": {},
   "outputs": [
    {
     "data": {
      "text/plain": [
       "'8 дней между \"2018-12-01\" и \"2018-12-09\": [1, 2, 3, 4, 5, 6, 7, 8]'"
      ]
     },
     "execution_count": 9,
     "metadata": {},
     "output_type": "execute_result"
    }
   ],
   "source": [
    "def datediff(start_date, end_date):\n",
    "    from datetime import datetime\n",
    "    difference=datetime.strptime(end_date,'%Y-%m-%d')-datetime.strptime(start_date,'%Y-%m-%d')\n",
    "    return f'{difference.days} дней между \"{start_date}\" и \"{end_date}\": {list(range(1,difference.days+1))}'\n",
    "datediff(start_date='2018-12-01', end_date='2018-12-09')"
   ]
  },
  {
   "cell_type": "markdown",
   "metadata": {},
   "source": [
    "Задание 2 Дан поток дат в формате YYYY-MM-DD, в которых встречаются некорректные значения: stream = ['2018-04-02', '2018-02-29', '2018-19-02']\n",
    "\n",
    "Напишите функцию, которая проверяет эти даты на корректность. Т. е. для каждой даты возвращает True (дата корректна) или False (некорректная дата)."
   ]
  },
  {
   "cell_type": "code",
   "execution_count": 3,
   "metadata": {},
   "outputs": [
    {
     "name": "stdout",
     "output_type": "stream",
     "text": [
      "\"2018-04-02\" корректна: True\n",
      "\"2018-02-29\" корректна: False\n",
      "\"2018-19-02\" корректна: False\n"
     ]
    }
   ],
   "source": [
    "stream = ['2018-04-02', '2018-02-29', '2018-19-02']\n",
    "def check_date(all_date):\n",
    "    try:\n",
    "        from datetime import datetime\n",
    "        datetime.strptime(all_date, '%Y-%m-%d')\n",
    "        return print('\"{}\" корректна: {}'.format(all_date, True))\n",
    "    except ValueError:\n",
    "        return print('\"{}\" корректна: {}'.format(all_date, False))\n",
    "\n",
    "for dt in stream: \n",
    "    check_date(dt)  "
   ]
  },
  {
   "cell_type": "markdown",
   "metadata": {},
   "source": [
    "Напишите функцию, которая возвращает список дат с 1 по вчерашний день текущего месяца. \n",
    "Если дан 1 день месяца, то возвращается список дней прошлого месяца."
   ]
  },
  {
   "cell_type": "code",
   "execution_count": 4,
   "metadata": {},
   "outputs": [
    {
     "data": {
      "text/plain": [
       "['2018-11-30',\n",
       " '2018-11-29',\n",
       " '2018-11-28',\n",
       " '2018-11-27',\n",
       " '2018-11-26',\n",
       " '2018-11-25',\n",
       " '2018-11-24',\n",
       " '2018-11-23',\n",
       " '2018-11-22',\n",
       " '2018-11-21',\n",
       " '2018-11-20',\n",
       " '2018-11-19',\n",
       " '2018-11-18',\n",
       " '2018-11-17',\n",
       " '2018-11-16',\n",
       " '2018-11-15',\n",
       " '2018-11-14',\n",
       " '2018-11-13',\n",
       " '2018-11-12',\n",
       " '2018-11-11',\n",
       " '2018-11-10',\n",
       " '2018-11-09',\n",
       " '2018-11-08',\n",
       " '2018-11-07',\n",
       " '2018-11-06',\n",
       " '2018-11-05',\n",
       " '2018-11-04',\n",
       " '2018-11-03',\n",
       " '2018-11-02',\n",
       " '2018-11-01']"
      ]
     },
     "execution_count": 4,
     "metadata": {},
     "output_type": "execute_result"
    }
   ],
   "source": [
    "def dates_from_1st_months_day(curr_date):\n",
    "    from datetime import datetime, timedelta\n",
    "    list_of_dates=[]\n",
    "    start_date=datetime.strptime(curr_date, '%Y-%m-%d')\n",
    "    start_date=start_date-timedelta(days=1)\n",
    "    end_date=datetime.strptime(start_date.strftime('%Y-%m-01'), '%Y-%m-%d')\n",
    "    while start_date>=end_date:\n",
    "        list_of_dates.append(start_date.strftime('%Y-%m-%d'))\n",
    "        start_date-=timedelta(days=1)    \n",
    "    return list_of_dates\n",
    "\n",
    "#dates_from_1st_months_day('2018-12-09') #вернет текущий месяц\n",
    "dates_from_1st_months_day('2018-12-01') #вернет прошлый месяц"
   ]
  },
  {
   "cell_type": "markdown",
   "metadata": {},
   "source": [
    "Напишите функцию, которая возвращает точную дату в формате YYYY-MM-DD по фразе:\n",
    "1. 'today' - сегодняшнюю дату\n",
    "2. 'last monday' -  прошлый понедельник\n",
    "3. 'last day' - Последний день текущего месяца"
   ]
  },
  {
   "cell_type": "code",
   "execution_count": 7,
   "metadata": {},
   "outputs": [
    {
     "data": {
      "text/plain": [
       "'прошлый понедельник был 2020-09-28'"
      ]
     },
     "execution_count": 7,
     "metadata": {},
     "output_type": "execute_result"
    }
   ],
   "source": [
    "def date_commands(command):\n",
    "    from datetime import datetime,timedelta\n",
    "    from dateutil.relativedelta import relativedelta\n",
    "    \n",
    "    if command=='today':\n",
    "        today=datetime.today().strftime(\"%Y-%m-%d\")\n",
    "        return f'сегодня {today}'\n",
    "    elif command=='last monday':\n",
    "        last_monday=(datetime.today()-timedelta(days=datetime.today().weekday())).strftime(\"%Y-%m-%d\")\n",
    "        return f'прошлый понедельник был {last_monday}'\n",
    "    elif command=='last day':\n",
    "        last_day=(datetime.today()-timedelta(days=datetime.today().day)+relativedelta(months=1)).strftime(\"%Y-%m-%d\")\n",
    "        return f'последний день текущего месяца будет {last_day}'\n",
    "#date_commands('today')\n",
    "#date_commands('last day')\n",
    "date_commands('last monday')"
   ]
  },
  {
   "cell_type": "code",
   "execution_count": null,
   "metadata": {},
   "outputs": [],
   "source": [
    "#https://github.com/Vndanilchenko/2nd-Part-PYTHON-DS/blob/master/HW4"
   ]
  },
  {
   "cell_type": "markdown",
   "metadata": {},
   "source": [
    "Напишите функцию date_range, которая возвращает список дат за период от start_date до end_date. Даты должны вводиться в формате YYYY-MM-DD. В случае неверного формата или при start_date > end_date должен возвращаться пустой список."
   ]
  },
  {
   "cell_type": "code",
   "execution_count": 9,
   "metadata": {},
   "outputs": [],
   "source": [
    "from datetime import datetime"
   ]
  },
  {
   "cell_type": "code",
   "execution_count": 10,
   "metadata": {},
   "outputs": [],
   "source": [
    "from datetime import timedelta"
   ]
  },
  {
   "cell_type": "code",
   "execution_count": 20,
   "metadata": {},
   "outputs": [
    {
     "name": "stdout",
     "output_type": "stream",
     "text": [
      "2020-10-01\n",
      "2020-10-02\n",
      "2020-10-03\n",
      "2020-10-04\n",
      "2020-10-05\n",
      "2020-10-06\n",
      "2020-10-07\n",
      "2020-10-08\n",
      "2020-10-09\n",
      "2020-10-10\n",
      "2020-10-11\n",
      "2020-10-12\n",
      "2020-10-13\n",
      "2020-10-14\n",
      "2020-10-15\n"
     ]
    }
   ],
   "source": [
    "start_date = '2020-10-01'\n",
    "end_date = '2020-10-15'\n",
    "\n",
    "def date_range():\n",
    "    \"\"\"список дат start_date и end_date\"\"\"\n",
    "    \n",
    "start_date_dt = datetime.strptime(start_date, '%Y-%m-%d')\n",
    "end_date_dt = datetime.strptime(end_date, '%Y-%m-%d')\n",
    "\n",
    "while start_date_dt <= end_date_dt:\n",
    "    print(start_date_dt.strftime('%Y-%m-%d'))\n",
    "    \n",
    "    start_date_dt += timedelta(days=1)"
   ]
  },
  {
   "cell_type": "code",
   "execution_count": 1,
   "metadata": {},
   "outputs": [
    {
     "name": "stdout",
     "output_type": "stream",
     "text": [
      "2018-08-13\n",
      "2018-08-14\n",
      "2018-08-15\n",
      "2018-08-16\n",
      "2018-08-17\n",
      "2018-08-18\n",
      "2018-08-19\n",
      "2018-08-20\n",
      "2018-08-21\n",
      "2018-08-22\n",
      "2018-08-23\n",
      "2018-08-24\n",
      "2018-08-25\n",
      "2018-08-26\n",
      "2018-08-27\n",
      "2018-08-28\n",
      "2018-08-29\n",
      "2018-08-30\n",
      "2018-08-31\n",
      "2018-09-01\n",
      "2018-09-02\n",
      "2018-09-03\n",
      "2018-09-04\n",
      "2018-09-05\n",
      "2018-09-06\n",
      "2018-09-07\n",
      "2018-09-08\n",
      "2018-09-09\n",
      "2018-09-10\n",
      "2018-09-11\n",
      "2018-09-12\n",
      "2018-09-13\n"
     ]
    }
   ],
   "source": [
    "from datetime import date, timedelta\n",
    "\n",
    "d1 = date(2018, 8, 13)  # начальная дата\n",
    "d2 = date(2018, 9, 13)  # конечная дата\n",
    "\n",
    "delta = d2 - d1         # timedelta\n",
    "if delta.days<=0:\n",
    "    print (\"Ругаемся и выходим\")\n",
    "for i in range(delta.days + 1):\n",
    "    print(d1 + timedelta(i))"
   ]
  },
  {
   "cell_type": "code",
   "execution_count": 8,
   "metadata": {},
   "outputs": [
    {
     "name": "stdout",
     "output_type": "stream",
     "text": [
      "2020-10-01\n",
      "2020-10-02\n",
      "2020-10-03\n",
      "2020-10-04\n",
      "2020-10-05\n",
      "2020-10-06\n",
      "2020-10-07\n",
      "2020-10-08\n",
      "2020-10-09\n",
      "2020-10-10\n",
      "2020-10-11\n",
      "2020-10-12\n",
      "2020-10-13\n",
      "2020-10-14\n",
      "2020-10-15\n"
     ]
    }
   ],
   "source": [
    "from datetime import datetime\n",
    "from datetime import timedelta\n",
    "start_date = '2020-10-01'\n",
    "end_date = '2020-10-15'\n",
    "\n",
    "start_date_dt = datetime.strptime(start_date, '%Y-%m-%d')\n",
    "end_date_dt = datetime.strptime(end_date, '%Y-%m-%d')\n",
    "current_dt = start_date_dt\n",
    "while current_dt.strftime('%Y-%m-%d') <= end_date:\n",
    "    print(current_dt.strftime('%Y-%m-%d'))\n",
    "    current_dt += timedelta(days=1)\n"
   ]
  },
  {
   "cell_type": "code",
   "execution_count": null,
   "metadata": {},
   "outputs": [],
   "source": []
  }
 ],
 "metadata": {
  "kernelspec": {
   "display_name": "Python 3",
   "language": "python",
   "name": "python3"
  },
  "language_info": {
   "codemirror_mode": {
    "name": "ipython",
    "version": 3
   },
   "file_extension": ".py",
   "mimetype": "text/x-python",
   "name": "python",
   "nbconvert_exporter": "python",
   "pygments_lexer": "ipython3",
   "version": "3.7.6"
  }
 },
 "nbformat": 4,
 "nbformat_minor": 4
}
